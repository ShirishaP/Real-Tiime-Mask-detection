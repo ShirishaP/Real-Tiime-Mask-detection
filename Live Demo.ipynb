{
 "cells": [
  {
   "cell_type": "code",
   "execution_count": 1,
   "metadata": {},
   "outputs": [],
   "source": [
    "import tensorflow as tf\n",
    "import numpy as np\n",
    "import cv2"
   ]
  },
  {
   "cell_type": "code",
   "execution_count": 14,
   "metadata": {},
   "outputs": [],
   "source": [
    "my_model = tf.keras.models.load_model('mymodel.h5')"
   ]
  },
  {
   "cell_type": "code",
   "execution_count": 43,
   "metadata": {},
   "outputs": [
    {
     "name": "stdout",
     "output_type": "stream",
     "text": [
      "face not detected\n",
      "face not detected\n",
      "face not detected\n",
      "face not detected\n",
      "face not detected\n",
      "face not detected\n",
      "face not detected\n",
      "face not detected\n",
      "face not detected\n",
      "face not detected\n"
     ]
    }
   ],
   "source": [
    "source=cv2.VideoCapture(0)\n",
    "\n",
    "while(True):\n",
    "    ret,frame=source.read()\n",
    "    faceCascade= cv2.CascadeClassifier(cv2.data.haarcascades+\"haarcascade_frontalface_default.xml\")\n",
    "    gray = cv2.cvtColor(frame, cv2.COLOR_BGR2GRAY)\n",
    "    faces= faceCascade.detectMultiScale(gray,1.1,4)\n",
    "    for x,y,w,h in faces:\n",
    "        roi_gray = gray[y:y+h,x:x+w]\n",
    "        roi_color = frame[y:y+h,x:x+w]\n",
    "        \n",
    "        facess= faceCascade.detectMultiScale(roi_gray)\n",
    "        if len(facess)==0:\n",
    "            print(\"face not detected\")\n",
    "        else:\n",
    "            for (ex,ey,ew,eh) in facess:\n",
    "                face_roi = roi_color[ey:ey+h,ex:ex+w]\n",
    "    final_image= cv2.resize(face_roi,(224,224))\n",
    "    final_image= np.expand_dims(final_image,axis=0)\n",
    "    final_image = final_image/255.0\n",
    "    font= cv2.FONT_HERSHEY_SIMPLEX\n",
    "    predictions = my_model.predict(final_image)[0][0]   \n",
    "    font_scale= 1.5\n",
    "    font= cv2.FONT_HERSHEY_PLAIN\n",
    "    \n",
    "    if (predictions>0.5):\n",
    "        status=\"No Mask\"\n",
    "        cv2.rectangle(frame,(x,y),(x+w,y+h),(0,0,255),3)\n",
    "    \n",
    "        cv2.putText(frame, status,(x+6,y-6),cv2.FONT_HERSHEY_COMPLEX, 1,(0,0,255),2)\n",
    "    else :\n",
    "        status=\"Mask\"\n",
    "        cv2.rectangle(frame,(x,y),(x+w,y+h),(0,255,0),2)\n",
    "        \n",
    "        cv2.putText(frame, status,(x+6,y-6),cv2.FONT_HERSHEY_COMPLEX, 1,(0,255,0),2)\n",
    "    \n",
    "    cv2.imshow('Face Mask Detector',frame)\n",
    "    if cv2.waitKey(25) & 0xFF == ord('q'):\n",
    "        cv2.destroyAllWindows()\n",
    "        break\n",
    "source.release()"
   ]
  },
  {
   "cell_type": "code",
   "execution_count": 41,
   "metadata": {},
   "outputs": [],
   "source": [
    "source.release()"
   ]
  },
  {
   "cell_type": "code",
   "execution_count": null,
   "metadata": {},
   "outputs": [],
   "source": []
  }
 ],
 "metadata": {
  "kernelspec": {
   "display_name": "Python 3",
   "language": "python",
   "name": "python3"
  },
  "language_info": {
   "codemirror_mode": {
    "name": "ipython",
    "version": 3
   },
   "file_extension": ".py",
   "mimetype": "text/x-python",
   "name": "python",
   "nbconvert_exporter": "python",
   "pygments_lexer": "ipython3",
   "version": "3.8.5"
  }
 },
 "nbformat": 4,
 "nbformat_minor": 4
}
